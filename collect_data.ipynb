{
 "cells": [
  {
   "cell_type": "code",
   "execution_count": 1,
   "id": "b6eda2b2-84a7-4f07-b25b-a56396f4b1ed",
   "metadata": {},
   "outputs": [],
   "source": [
    "import json\n",
    "import pandas as pd\n",
    "from glob import glob\n",
    "import os\n",
    "\n",
    "from functions import getMolname, parseOutput\n",
    "\n",
    "pd.set_option('max_rows', None)\n",
    "pd.set_option('display.precision', 10)\n",
    "\n",
    "root = '/Users/abr121/Documents/dev/proj_psp'"
   ]
  },
  {
   "cell_type": "code",
   "execution_count": 2,
   "id": "37c2b7df-6673-4087-a978-30a5f994f98c",
   "metadata": {},
   "outputs": [],
   "source": [
    "# Grab job files\n",
    "project = 'row3'\n",
    "outputs = glob(os.path.join(root, f'calcs_{project}', '*.json'))"
   ]
  },
  {
   "cell_type": "code",
   "execution_count": 6,
   "id": "8e3c9f11-5b5c-4640-9f5f-1068574878fa",
   "metadata": {
    "tags": []
   },
   "outputs": [
    {
     "name": "stderr",
     "output_type": "stream",
     "text": [
      "<ipython-input-6-e2a500e51a69>:7: FutureWarning: The default value of regex will change from True to False in a future version. In addition, single character regular expressions will*not* be treated as literal strings when regex=True.\n",
      "  df.Molecule = df.Molecule.str.replace('*', '')\n"
     ]
    }
   ],
   "source": [
    "# Collect data and store in CSV format\n",
    "table = [parseOutput(f, project) for f in outputs]\n",
    "columns = ['Index', 'Molecule', 'Functional', 'Multiplicity', 'SpinRestricted', 'Precision',\n",
    "           'OrbitalThreshold', 'EnergyThreshold', 'MRChemVersion',\n",
    "           'Ncores', 'Walltime', 'SCFCycles', 'Energy', 'Completed']\n",
    "df = pd.DataFrame(table, columns=columns).sort_values(by=['Index'])\n",
    "df.Molecule = df.Molecule.str.replace('*', '')\n",
    "\n",
    "df.sort_values(by=[\"Functional\", \"Index\"]).to_csv(f'{project}_total_energies.csv', index=False)\n",
    "#df.dropna().sort_values(by=['Functional', 'Index']).drop(df.loc[(df.Functional == 'b3lyp-g') & (df.Multiplicity > 1)].index).to_csv(f'{project}_total_energies.csv', index=False)"
   ]
  },
  {
   "cell_type": "code",
   "execution_count": null,
   "id": "1715ff8c-7f90-4efc-8b08-f2c5b0d9fea0",
   "metadata": {},
   "outputs": [],
   "source": []
  }
 ],
 "metadata": {
  "kernelspec": {
   "display_name": "Python 3",
   "language": "python",
   "name": "python3"
  },
  "language_info": {
   "codemirror_mode": {
    "name": "ipython",
    "version": 3
   },
   "file_extension": ".py",
   "mimetype": "text/x-python",
   "name": "python",
   "nbconvert_exporter": "python",
   "pygments_lexer": "ipython3",
   "version": "3.8.8"
  }
 },
 "nbformat": 4,
 "nbformat_minor": 5
}
