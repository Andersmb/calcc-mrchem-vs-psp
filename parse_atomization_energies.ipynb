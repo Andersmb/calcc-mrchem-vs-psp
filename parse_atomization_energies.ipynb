{
 "cells": [
  {
   "cell_type": "code",
   "execution_count": 1,
   "id": "aa5e0780-8b68-4ac9-9aa5-81c27a46aad1",
   "metadata": {},
   "outputs": [],
   "source": [
    "import pandas as pd\n",
    "\n",
    "with open('atomic_energies.txt') as f:\n",
    "    lines = [' '.join(line.split()) for line in f.readlines() if line.strip() != '']\n",
    "    \n",
    "atoms = ['H', 'Li', 'Be', 'B', 'C', 'N', 'O', 'F', 'Na', 'Mg', 'Al', 'Si', 'P', 'S', 'Cl']\n",
    "functionals = ['pbe', 'pbe0', 'b3lyp']"
   ]
  },
  {
   "cell_type": "code",
   "execution_count": 2,
   "id": "40dadd9f-561f-4d98-b23d-7bcebe01ed39",
   "metadata": {},
   "outputs": [],
   "source": [
    "def parse(atom, func):\n",
    "    for i, line in enumerate(lines):\n",
    "        if line == atom:\n",
    "            if func == 'pbe':\n",
    "                return [float(el) for el in lines[i+2].split()[2:]]\n",
    "            elif func == 'pbe0':\n",
    "                return [float(el) for el in lines[i+4].split()[2:]]\n",
    "            elif func == 'b3lyp':\n",
    "                return [float(el) for el in lines[i+6].split()[2:]]\n",
    "            else:\n",
    "                return None\n",
    "    else:\n",
    "        return None"
   ]
  },
  {
   "cell_type": "code",
   "execution_count": 4,
   "id": "38dfe15a-5b3f-47d0-a06c-30fd85583569",
   "metadata": {},
   "outputs": [],
   "source": [
    "data = []\n",
    "for atom in atoms:\n",
    "    for func in functionals:\n",
    "        row = [atom, func.upper()] + parse(atom, func)\n",
    "        data.append(row)\n",
    "        \n",
    "df = pd.DataFrame(data, columns=['Atom', 'Functional', 'Allel', 'PSP'])\n",
    "df.Functional = df.Functional.str.replace('B3LYP', 'B3LYP-G')\n",
    "df.to_csv('atomic_energies.csv', index=False)"
   ]
  },
  {
   "cell_type": "code",
   "execution_count": null,
   "id": "cba120d2-c917-4bd0-9cab-6f3d0a4bf9c8",
   "metadata": {},
   "outputs": [],
   "source": []
  }
 ],
 "metadata": {
  "kernelspec": {
   "display_name": "Python 3",
   "language": "python",
   "name": "python3"
  },
  "language_info": {
   "codemirror_mode": {
    "name": "ipython",
    "version": 3
   },
   "file_extension": ".py",
   "mimetype": "text/x-python",
   "name": "python",
   "nbconvert_exporter": "python",
   "pygments_lexer": "ipython3",
   "version": "3.8.8"
  }
 },
 "nbformat": 4,
 "nbformat_minor": 5
}
