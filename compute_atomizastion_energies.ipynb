{
 "cells": [
  {
   "cell_type": "code",
   "execution_count": 16,
   "id": "34a5684a-313c-44b5-872a-016545a68a6c",
   "metadata": {},
   "outputs": [],
   "source": [
    "import pandas as pd\n",
    "from functions import parse_molecule, compute_atomization_energy\n",
    "\n",
    "project = 'row12'\n",
    "total = pd.read_csv(f'{project}_total_energies.csv')"
   ]
  },
  {
   "cell_type": "code",
   "execution_count": 17,
   "id": "7a86a958-ba12-45c5-b0f6-27e6d85283a4",
   "metadata": {},
   "outputs": [],
   "source": [
    "atomization_energies = [compute_atomization_energy(mol=row.Molecule, func=row.Functional, project=project) for i, row in total.iterrows()]\n",
    "total['Atomization_energy'] = atomization_energies\n",
    "total.drop(['Completed'], axis=1, inplace=True)\n",
    "total.to_csv(f'{project}_total_and_atomization_energies.csv', index=False)"
   ]
  },
  {
   "cell_type": "code",
   "execution_count": null,
   "id": "2069eee4-90a0-485b-b515-b2eea0b1828e",
   "metadata": {},
   "outputs": [],
   "source": []
  }
 ],
 "metadata": {
  "kernelspec": {
   "display_name": "Python 3",
   "language": "python",
   "name": "python3"
  },
  "language_info": {
   "codemirror_mode": {
    "name": "ipython",
    "version": 3
   },
   "file_extension": ".py",
   "mimetype": "text/x-python",
   "name": "python",
   "nbconvert_exporter": "python",
   "pygments_lexer": "ipython3",
   "version": "3.8.8"
  }
 },
 "nbformat": 4,
 "nbformat_minor": 5
}
